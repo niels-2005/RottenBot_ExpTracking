{
 "cells": [
  {
   "cell_type": "code",
   "execution_count": 4,
   "id": "e23986b2",
   "metadata": {},
   "outputs": [
    {
     "data": {
      "text/plain": [
       "'/home/ubuntu/dev/fruit_vege_disease/artifacts/model'"
      ]
     },
     "execution_count": 4,
     "metadata": {},
     "output_type": "execute_result"
    }
   ],
   "source": [
    "import mlflow\n",
    "\n",
    "mlflow.set_tracking_uri(\"http://localhost:5000\")\n",
    "\n",
    "mlflow.artifacts.download_artifacts(\n",
    "    dst_path=\"./artifacts\",\n",
    "    artifact_uri=\"mlflow-artifacts:/1/e9b1e274422d4bcdb48839899a51b1c0/artifacts/model\",\n",
    ")"
   ]
  },
  {
   "cell_type": "code",
   "execution_count": 1,
   "id": "b4b220cc",
   "metadata": {},
   "outputs": [
    {
     "name": "stdout",
     "output_type": "stream",
     "text": [
      "Found 2942 files belonging to 28 classes.\n"
     ]
    }
   ],
   "source": [
    "from src.rotten_bot.utils import get_tensorflow_dataset\n",
    "from src.rotten_bot.experiments_config import CommonConfig, DatasetConfig\n",
    "\n",
    "common_config = CommonConfig()\n",
    "dataset_config = DatasetConfig()\n",
    "\n",
    "test_dataset = get_tensorflow_dataset(\n",
    "    image_folder=f\"{dataset_config.DATASET_FOLDER}/test\",\n",
    "    image_size=dataset_config.IMAGE_SIZE,\n",
    "    batch_size=dataset_config.TEST_BATCH_SIZE,\n",
    "    label_mode=dataset_config.LABEL_MODE,\n",
    "    shuffle=False,  # shuffle needs to be false for later evaluation\n",
    "    seed=common_config.SEED,\n",
    ")"
   ]
  },
  {
   "cell_type": "code",
   "execution_count": 5,
   "id": "21b169f8",
   "metadata": {},
   "outputs": [
    {
     "data": {
      "text/plain": [
       "{0: 'Apple__Healthy',\n",
       " 1: 'Apple__Rotten',\n",
       " 2: 'Banana__Healthy',\n",
       " 3: 'Banana__Rotten',\n",
       " 4: 'Bellpepper__Healthy',\n",
       " 5: 'Bellpepper__Rotten',\n",
       " 6: 'Carrot__Healthy',\n",
       " 7: 'Carrot__Rotten',\n",
       " 8: 'Cucumber__Healthy',\n",
       " 9: 'Cucumber__Rotten',\n",
       " 10: 'Grape__Healthy',\n",
       " 11: 'Grape__Rotten',\n",
       " 12: 'Guava__Healthy',\n",
       " 13: 'Guava__Rotten',\n",
       " 14: 'Jujube__Healthy',\n",
       " 15: 'Jujube__Rotten',\n",
       " 16: 'Mango__Healthy',\n",
       " 17: 'Mango__Rotten',\n",
       " 18: 'Orange__Healthy',\n",
       " 19: 'Orange__Rotten',\n",
       " 20: 'Pomegranate__Healthy',\n",
       " 21: 'Pomegranate__Rotten',\n",
       " 22: 'Potato__Healthy',\n",
       " 23: 'Potato__Rotten',\n",
       " 24: 'Strawberry__Healthy',\n",
       " 25: 'Strawberry__Rotten',\n",
       " 26: 'Tomato__Healthy',\n",
       " 27: 'Tomato__Rotten'}"
      ]
     },
     "execution_count": 5,
     "metadata": {},
     "output_type": "execute_result"
    }
   ],
   "source": [
    "classes = test_dataset.class_names\n",
    "\n",
    "# make array to dict\n",
    "class_to_index = {idx: cls for idx, cls in enumerate(classes)}\n",
    "class_to_index"
   ]
  },
  {
   "cell_type": "code",
   "execution_count": null,
   "id": "d2089050",
   "metadata": {},
   "outputs": [],
   "source": []
  }
 ],
 "metadata": {
  "kernelspec": {
   "display_name": "fruit_vege_disease",
   "language": "python",
   "name": "python3"
  },
  "language_info": {
   "codemirror_mode": {
    "name": "ipython",
    "version": 3
   },
   "file_extension": ".py",
   "mimetype": "text/x-python",
   "name": "python",
   "nbconvert_exporter": "python",
   "pygments_lexer": "ipython3",
   "version": "3.11.13"
  }
 },
 "nbformat": 4,
 "nbformat_minor": 5
}

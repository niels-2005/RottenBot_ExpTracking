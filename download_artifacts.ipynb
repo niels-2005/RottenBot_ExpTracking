{
 "cells": [
  {
   "cell_type": "code",
   "execution_count": 4,
   "id": "e23986b2",
   "metadata": {},
   "outputs": [
    {
     "data": {
      "text/plain": [
       "'/home/ubuntu/dev/fruit_vege_disease/artifacts/model'"
      ]
     },
     "execution_count": 4,
     "metadata": {},
     "output_type": "execute_result"
    }
   ],
   "source": [
    "import mlflow\n",
    "\n",
    "mlflow.set_tracking_uri(\"http://localhost:5000\")\n",
    "\n",
    "mlflow.artifacts.download_artifacts(\n",
    "    dst_path=\"./artifacts\",\n",
    "    artifact_uri=\"mlflow-artifacts:/1/e9b1e274422d4bcdb48839899a51b1c0/artifacts/model\",\n",
    ")"
   ]
  }
 ],
 "metadata": {
  "kernelspec": {
   "display_name": "fruit_vege_disease",
   "language": "python",
   "name": "python3"
  },
  "language_info": {
   "codemirror_mode": {
    "name": "ipython",
    "version": 3
   },
   "file_extension": ".py",
   "mimetype": "text/x-python",
   "name": "python",
   "nbconvert_exporter": "python",
   "pygments_lexer": "ipython3",
   "version": "3.11.13"
  }
 },
 "nbformat": 4,
 "nbformat_minor": 5
}

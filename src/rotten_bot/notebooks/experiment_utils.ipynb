{
 "cells": [
  {
   "cell_type": "code",
   "execution_count": 1,
   "id": "c126e272",
   "metadata": {},
   "outputs": [],
   "source": [
    "import mlflow"
   ]
  },
  {
   "cell_type": "code",
   "execution_count": 2,
   "id": "8bec4b48",
   "metadata": {},
   "outputs": [],
   "source": [
    "# Use this code to create a new experiment in MLflow with detailed tags and description.\n",
    "try:\n",
    "    client = mlflow.MlflowClient(tracking_uri=\"http://localhost:5000\")\n",
    "\n",
    "    experiment_description = \"\"\" This experiment focuses on detecting healthy and rotten fruits and vegetables using computer vision. \"\"\"\n",
    "\n",
    "    experiment_tags = {\n",
    "        \"project_name\": \"rotten-bot-all-classes\",\n",
    "        \"team\": \"ai-team-xyz\",\n",
    "        \"mlflow.note.content\": experiment_description,\n",
    "        \"task\": \"image-classification\",\n",
    "        \"framework\": \"tensorflow-keras\",\n",
    "        \"num_classes\": \"28\",\n",
    "        \"dataset\": \"rottenbot_all_classesv1\",\n",
    "        \"status\": \"in-progress\",\n",
    "    }\n",
    "\n",
    "    produce_apples_experiment = client.create_experiment(\n",
    "        name=\"RottenBot-All-Classes\", tags=experiment_tags\n",
    "    )\n",
    "except Exception as e:\n",
    "    print(f\"Experiment already exists\")"
   ]
  },
  {
   "cell_type": "code",
   "execution_count": 2,
   "id": "2e7e08b4",
   "metadata": {},
   "outputs": [],
   "source": [
    "# IF YOUR DATASET IS NOT SPLITTED INTO TRAIN/VAL/TEST, USE THIS CODE TO SPLIT IT\n",
    "\n",
    "\n",
    "from rotten_bot.utils import split_dataset\n",
    "\n",
    "# This will create a new folder with the splitted dataset, provide seed for reproducibility and ratio for train/val/test\n",
    "split_dataset(\n",
    "    source_folder=\"/home/ubuntu/dev/fruit_vege_disease/original_dataset/dataset\",\n",
    "    output_folder=\"/home/ubuntu/dev/fruit_vege_disease/training_datasets/rottenbot_all_classesv1\",\n",
    "    seed=42,\n",
    "    ratio=(0.80, 0.1, 0.1),\n",
    ")"
   ]
  },
  {
   "cell_type": "code",
   "execution_count": 3,
   "id": "bd872522",
   "metadata": {},
   "outputs": [],
   "source": [
    "mlflow.set_tracking_uri(\"http://localhost:5000\")"
   ]
  },
  {
   "cell_type": "code",
   "execution_count": 6,
   "id": "91d689a8",
   "metadata": {},
   "outputs": [
    {
     "data": {
      "text/plain": [
       "[<FileInfo: file_size=None, is_dir=True, path='config.py'>,\n",
       " <FileInfo: file_size=None, is_dir=True, path='data'>,\n",
       " <FileInfo: file_size=477, is_dir=False, path='model_history.json'>,\n",
       " <FileInfo: file_size=3531, is_dir=False, path='model_summary.txt'>,\n",
       " <FileInfo: file_size=None, is_dir=True, path='plots'>]"
      ]
     },
     "execution_count": 6,
     "metadata": {},
     "output_type": "execute_result"
    }
   ],
   "source": [
    "mlflow.artifacts.list_artifacts(run_id=\"8ce20f0d4026439cad2fe7543be5ffc5\")"
   ]
  },
  {
   "cell_type": "code",
   "execution_count": null,
   "id": "79a8e619",
   "metadata": {},
   "outputs": [],
   "source": []
  }
 ],
 "metadata": {
  "kernelspec": {
   "display_name": "smart_recycling",
   "language": "python",
   "name": "python3"
  },
  "language_info": {
   "codemirror_mode": {
    "name": "ipython",
    "version": 3
   },
   "file_extension": ".py",
   "mimetype": "text/x-python",
   "name": "python",
   "nbconvert_exporter": "python",
   "pygments_lexer": "ipython3",
   "version": "3.11.13"
  }
 },
 "nbformat": 4,
 "nbformat_minor": 5
}
